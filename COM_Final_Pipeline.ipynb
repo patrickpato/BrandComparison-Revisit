{
 "cells": [
  {
   "cell_type": "code",
   "execution_count": 8,
   "id": "7b7c07d8",
   "metadata": {},
   "outputs": [],
   "source": [
    "import numpy as np \n",
    "import pandas as pd \n",
    "import matplotlib.pyplot as plt \n",
    "import nltk \n",
    "import re\n",
    "from sklearn.feature_extraction.text import CountVectorizer, TfidfVectorizer \n",
    "from sklearn.ensemble import RandomForestClassifier, StackingClassifier\n",
    "from sklearn.linear_model import LogisticRegression \n",
    "from sklearn.tree import DecisionTreeClassifier \n",
    "from sklearn.multiclass import OneVsRestClassifier\n",
    "from sklearn.svm import SVC \n",
    "from sklearn.neural_network import MLPClassifier\n",
    "from sklearn.metrics import f1_score, accuracy_score\n",
    "from sklearn.model_selection import train_test_split\n",
    "import json\n",
    "from sklearn.pipeline import Pipeline\n",
    "import joblib"
   ]
  },
  {
   "cell_type": "code",
   "execution_count": 3,
   "id": "1129150b",
   "metadata": {},
   "outputs": [
    {
     "data": {
      "text/html": [
       "<div>\n",
       "<style scoped>\n",
       "    .dataframe tbody tr th:only-of-type {\n",
       "        vertical-align: middle;\n",
       "    }\n",
       "\n",
       "    .dataframe tbody tr th {\n",
       "        vertical-align: top;\n",
       "    }\n",
       "\n",
       "    .dataframe thead th {\n",
       "        text-align: right;\n",
       "    }\n",
       "</style>\n",
       "<table border=\"1\" class=\"dataframe\">\n",
       "  <thead>\n",
       "    <tr style=\"text-align: right;\">\n",
       "      <th></th>\n",
       "      <th>tweet</th>\n",
       "      <th>Airtel_Pos</th>\n",
       "      <th>Airtel_Neut</th>\n",
       "      <th>Airtel_Neg</th>\n",
       "      <th>Saf_Pos</th>\n",
       "      <th>Saf_Neut</th>\n",
       "      <th>Saf_Neg</th>\n",
       "      <th>clean_tweets</th>\n",
       "    </tr>\n",
       "  </thead>\n",
       "  <tbody>\n",
       "    <tr>\n",
       "      <th>0</th>\n",
       "      <td>@emukala85 Apologies for the inconveniences ca...</td>\n",
       "      <td>0</td>\n",
       "      <td>1</td>\n",
       "      <td>0</td>\n",
       "      <td>0</td>\n",
       "      <td>0</td>\n",
       "      <td>1</td>\n",
       "      <td>apologies inconveniences caused notified recha...</td>\n",
       "    </tr>\n",
       "    <tr>\n",
       "      <th>1</th>\n",
       "      <td>Communications Authority: Airtel Kenya had the...</td>\n",
       "      <td>0</td>\n",
       "      <td>0</td>\n",
       "      <td>1</td>\n",
       "      <td>0</td>\n",
       "      <td>1</td>\n",
       "      <td>0</td>\n",
       "      <td>communications authority airtel kenya worst mo...</td>\n",
       "    </tr>\n",
       "  </tbody>\n",
       "</table>\n",
       "</div>"
      ],
      "text/plain": [
       "                                               tweet  Airtel_Pos  Airtel_Neut  \\\n",
       "0  @emukala85 Apologies for the inconveniences ca...           0            1   \n",
       "1  Communications Authority: Airtel Kenya had the...           0            0   \n",
       "\n",
       "   Airtel_Neg  Saf_Pos  Saf_Neut  Saf_Neg  \\\n",
       "0           0        0         0        1   \n",
       "1           1        0         1        0   \n",
       "\n",
       "                                        clean_tweets  \n",
       "0  apologies inconveniences caused notified recha...  \n",
       "1  communications authority airtel kenya worst mo...  "
      ]
     },
     "execution_count": 3,
     "metadata": {},
     "output_type": "execute_result"
    }
   ],
   "source": [
    "train_df = pd.read_csv(\"train.csv\")\n",
    "train_df.head(2)"
   ]
  },
  {
   "cell_type": "code",
   "execution_count": 4,
   "id": "83eecabe",
   "metadata": {},
   "outputs": [],
   "source": [
    "y = train_df.drop(columns=[\"tweet\", \"clean_tweets\"], axis=1)"
   ]
  },
  {
   "cell_type": "code",
   "execution_count": 5,
   "id": "d162534d",
   "metadata": {},
   "outputs": [],
   "source": [
    "X_train, X_test, y_train, y_test = train_test_split(train_df['clean_tweets'], y, test_size=0.3, random_state=2022)"
   ]
  },
  {
   "cell_type": "code",
   "execution_count": 6,
   "id": "6d05e842",
   "metadata": {},
   "outputs": [
    {
     "data": {
      "text/plain": [
       "TfidfVectorizer()"
      ]
     },
     "execution_count": 6,
     "metadata": {},
     "output_type": "execute_result"
    }
   ],
   "source": [
    "tfidf_vect = TfidfVectorizer()\n",
    "tfidf_vect.fit(train_df['clean_tweets'])"
   ]
  },
  {
   "cell_type": "code",
   "execution_count": 7,
   "id": "e74be608",
   "metadata": {},
   "outputs": [],
   "source": [
    "#hybrid model\n",
    "base_estimators = [\n",
    "    (\"log reg\", OneVsRestClassifier(LogisticRegression())), \n",
    "    (\"decision tree\", OneVsRestClassifier(DecisionTreeClassifier())), \n",
    "    (\"random forest\", OneVsRestClassifier(RandomForestClassifier())), \n",
    "    (\"MLP\", OneVsRestClassifier(MLPClassifier()))\n",
    "]\n",
    "final_estimator = OneVsRestClassifier(StackingClassifier(estimators=base_estimators, final_estimator=OneVsRestClassifier(MLPClassifier())))"
   ]
  },
  {
   "cell_type": "code",
   "execution_count": 9,
   "id": "b9932cca",
   "metadata": {},
   "outputs": [
    {
     "name": "stdout",
     "output_type": "stream",
     "text": [
      "0.7175243599419387\n"
     ]
    }
   ],
   "source": [
    "com_pipeline = Pipeline([\n",
    "    (\"vect\", tfidf_vect), \n",
    "    (\"hybrid_model\", final_estimator)\n",
    "])\n",
    "com_pipeline.fit(X_train, y_train)\n",
    "com_predictions = com_pipeline.predict(X_test)\n",
    "com_f1 = f1_score(com_predictions, y_test, average=\"weighted\")\n",
    "outfile = \"com_pipeline.sav\"\n",
    "joblib.dump(com_pipeline, outfile)\n",
    "print(com_f1)"
   ]
  },
  {
   "cell_type": "code",
   "execution_count": 24,
   "id": "1848b1ed",
   "metadata": {},
   "outputs": [
    {
     "data": {
      "text/plain": [
       "array([[0, 0, 0, 0, 0, 0]])"
      ]
     },
     "execution_count": 24,
     "metadata": {},
     "output_type": "execute_result"
    }
   ],
   "source": [
    "sample_text = [\"I enjoy airtel because of cheap airtime and bundles\"]\n",
    "predicted_sentiments = joblib.load(\"com_pipeline.sav\").predict(sample_text)\n",
    "predicted_sentiments"
   ]
  },
  {
   "cell_type": "code",
   "execution_count": null,
   "id": "aa4618d6",
   "metadata": {},
   "outputs": [],
   "source": []
  }
 ],
 "metadata": {
  "kernelspec": {
   "display_name": "Python 3 (ipykernel)",
   "language": "python",
   "name": "python3"
  },
  "language_info": {
   "codemirror_mode": {
    "name": "ipython",
    "version": 3
   },
   "file_extension": ".py",
   "mimetype": "text/x-python",
   "name": "python",
   "nbconvert_exporter": "python",
   "pygments_lexer": "ipython3",
   "version": "3.9.12"
  }
 },
 "nbformat": 4,
 "nbformat_minor": 5
}
