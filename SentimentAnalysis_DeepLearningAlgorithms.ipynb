{
  "nbformat": 4,
  "nbformat_minor": 0,
  "metadata": {
    "colab": {
      "provenance": []
    },
    "kernelspec": {
      "name": "python3",
      "display_name": "Python 3"
    },
    "language_info": {
      "name": "python"
    },
    "accelerator": "GPU",
    "gpuClass": "standard"
  },
  "cells": [
    {
      "cell_type": "code",
      "source": [
        "!pip install transformers==2.8.0"
      ],
      "metadata": {
        "colab": {
          "base_uri": "https://localhost:8080/",
          "height": 1000
        },
        "id": "E9WY-yy0-Yau",
        "outputId": "c9f1c32b-d407-4b93-b83b-61eaa253acff"
      },
      "execution_count": 31,
      "outputs": [
        {
          "output_type": "stream",
          "name": "stdout",
          "text": [
            "Looking in indexes: https://pypi.org/simple, https://us-python.pkg.dev/colab-wheels/public/simple/\n",
            "Collecting transformers==2.8.0\n",
            "  Downloading transformers-2.8.0-py3-none-any.whl (563 kB)\n",
            "\u001b[K     |████████████████████████████████| 563 kB 37.4 MB/s \n",
            "\u001b[?25hRequirement already satisfied: regex!=2019.12.17 in /usr/local/lib/python3.7/dist-packages (from transformers==2.8.0) (2022.6.2)\n",
            "Collecting sentencepiece\n",
            "  Downloading sentencepiece-0.1.97-cp37-cp37m-manylinux_2_17_x86_64.manylinux2014_x86_64.whl (1.3 MB)\n",
            "\u001b[K     |████████████████████████████████| 1.3 MB 61.9 MB/s \n",
            "\u001b[?25hRequirement already satisfied: tqdm>=4.27 in /usr/local/lib/python3.7/dist-packages (from transformers==2.8.0) (4.64.0)\n",
            "Requirement already satisfied: filelock in /usr/local/lib/python3.7/dist-packages (from transformers==2.8.0) (3.8.0)\n",
            "Collecting boto3\n",
            "  Downloading boto3-1.24.67-py3-none-any.whl (132 kB)\n",
            "\u001b[K     |████████████████████████████████| 132 kB 68.3 MB/s \n",
            "\u001b[?25hCollecting sacremoses\n",
            "  Downloading sacremoses-0.0.53.tar.gz (880 kB)\n",
            "\u001b[K     |████████████████████████████████| 880 kB 63.1 MB/s \n",
            "\u001b[?25hRequirement already satisfied: numpy in /usr/local/lib/python3.7/dist-packages (from transformers==2.8.0) (1.21.6)\n",
            "Collecting tokenizers==0.5.2\n",
            "  Downloading tokenizers-0.5.2-cp37-cp37m-manylinux1_x86_64.whl (5.6 MB)\n",
            "\u001b[K     |████████████████████████████████| 5.6 MB 51.3 MB/s \n",
            "\u001b[?25hRequirement already satisfied: requests in /usr/local/lib/python3.7/dist-packages (from transformers==2.8.0) (2.23.0)\n",
            "Collecting jmespath<2.0.0,>=0.7.1\n",
            "  Downloading jmespath-1.0.1-py3-none-any.whl (20 kB)\n",
            "Collecting s3transfer<0.7.0,>=0.6.0\n",
            "  Downloading s3transfer-0.6.0-py3-none-any.whl (79 kB)\n",
            "\u001b[K     |████████████████████████████████| 79 kB 7.9 MB/s \n",
            "\u001b[?25hCollecting botocore<1.28.0,>=1.27.67\n",
            "  Downloading botocore-1.27.67-py3-none-any.whl (9.1 MB)\n",
            "\u001b[K     |████████████████████████████████| 9.1 MB 34.6 MB/s \n",
            "\u001b[?25hCollecting urllib3<1.27,>=1.25.4\n",
            "  Downloading urllib3-1.26.12-py2.py3-none-any.whl (140 kB)\n",
            "\u001b[K     |████████████████████████████████| 140 kB 64.3 MB/s \n",
            "\u001b[?25hRequirement already satisfied: python-dateutil<3.0.0,>=2.1 in /usr/local/lib/python3.7/dist-packages (from botocore<1.28.0,>=1.27.67->boto3->transformers==2.8.0) (2.8.2)\n",
            "Requirement already satisfied: six>=1.5 in /usr/local/lib/python3.7/dist-packages (from python-dateutil<3.0.0,>=2.1->botocore<1.28.0,>=1.27.67->boto3->transformers==2.8.0) (1.15.0)\n",
            "Requirement already satisfied: idna<3,>=2.5 in /usr/local/lib/python3.7/dist-packages (from requests->transformers==2.8.0) (2.10)\n",
            "Requirement already satisfied: certifi>=2017.4.17 in /usr/local/lib/python3.7/dist-packages (from requests->transformers==2.8.0) (2022.6.15)\n",
            "Requirement already satisfied: chardet<4,>=3.0.2 in /usr/local/lib/python3.7/dist-packages (from requests->transformers==2.8.0) (3.0.4)\n",
            "  Downloading urllib3-1.25.11-py2.py3-none-any.whl (127 kB)\n",
            "\u001b[K     |████████████████████████████████| 127 kB 86.0 MB/s \n",
            "\u001b[?25hRequirement already satisfied: click in /usr/local/lib/python3.7/dist-packages (from sacremoses->transformers==2.8.0) (7.1.2)\n",
            "Requirement already satisfied: joblib in /usr/local/lib/python3.7/dist-packages (from sacremoses->transformers==2.8.0) (1.1.0)\n",
            "Building wheels for collected packages: sacremoses\n",
            "  Building wheel for sacremoses (setup.py) ... \u001b[?25l\u001b[?25hdone\n",
            "  Created wheel for sacremoses: filename=sacremoses-0.0.53-py3-none-any.whl size=895260 sha256=e6b64fc39c94c56fcce6de77518219998c08e9044b4f09d45c2145bf568f922a\n",
            "  Stored in directory: /root/.cache/pip/wheels/87/39/dd/a83eeef36d0bf98e7a4d1933a4ad2d660295a40613079bafc9\n",
            "Successfully built sacremoses\n",
            "Installing collected packages: urllib3, jmespath, botocore, s3transfer, tokenizers, sentencepiece, sacremoses, boto3, transformers\n",
            "  Attempting uninstall: urllib3\n",
            "    Found existing installation: urllib3 1.24.3\n",
            "    Uninstalling urllib3-1.24.3:\n",
            "      Successfully uninstalled urllib3-1.24.3\n",
            "Successfully installed boto3-1.24.67 botocore-1.27.67 jmespath-1.0.1 s3transfer-0.6.0 sacremoses-0.0.53 sentencepiece-0.1.97 tokenizers-0.5.2 transformers-2.8.0 urllib3-1.25.11\n"
          ]
        },
        {
          "output_type": "display_data",
          "data": {
            "application/vnd.colab-display-data+json": {
              "pip_warning": {
                "packages": [
                  "urllib3"
                ]
              }
            }
          },
          "metadata": {}
        }
      ]
    },
    {
      "cell_type": "code",
      "source": [
        "!pip install vaderSentiment"
      ],
      "metadata": {
        "colab": {
          "base_uri": "https://localhost:8080/"
        },
        "id": "tF2j5tgplo1V",
        "outputId": "df75d267-83bf-4111-f079-c50975ded19e"
      },
      "execution_count": 1,
      "outputs": [
        {
          "output_type": "stream",
          "name": "stdout",
          "text": [
            "Looking in indexes: https://pypi.org/simple, https://us-python.pkg.dev/colab-wheels/public/simple/\n",
            "Collecting vaderSentiment\n",
            "  Downloading vaderSentiment-3.3.2-py2.py3-none-any.whl (125 kB)\n",
            "\u001b[K     |████████████████████████████████| 125 kB 32.3 MB/s \n",
            "\u001b[?25hRequirement already satisfied: requests in /usr/local/lib/python3.7/dist-packages (from vaderSentiment) (2.23.0)\n",
            "Requirement already satisfied: idna<3,>=2.5 in /usr/local/lib/python3.7/dist-packages (from requests->vaderSentiment) (2.10)\n",
            "Requirement already satisfied: certifi>=2017.4.17 in /usr/local/lib/python3.7/dist-packages (from requests->vaderSentiment) (2022.6.15)\n",
            "Requirement already satisfied: chardet<4,>=3.0.2 in /usr/local/lib/python3.7/dist-packages (from requests->vaderSentiment) (3.0.4)\n",
            "Requirement already satisfied: urllib3!=1.25.0,!=1.25.1,<1.26,>=1.21.1 in /usr/local/lib/python3.7/dist-packages (from requests->vaderSentiment) (1.24.3)\n",
            "Installing collected packages: vaderSentiment\n",
            "Successfully installed vaderSentiment-3.3.2\n"
          ]
        }
      ]
    },
    {
      "cell_type": "code",
      "execution_count": 28,
      "metadata": {
        "id": "05B-6LNgj8cQ"
      },
      "outputs": [],
      "source": [
        "import pandas as pd\n",
        "import  glob \n",
        "import os \n",
        "from vaderSentiment.vaderSentiment import SentimentIntensityAnalyzer\n",
        "from keras.preprocessing.text import Tokenizer \n",
        "from keras.preprocessing.sequence import pad_sequences \n",
        "from keras.models import Sequential \n",
        "from keras.layers import Dense, Embedding, LSTM, SpatialDropout1D, Flatten\n",
        "from keras.utils.np_utils import to_categorical \n",
        "from keras.callbacks import EarlyStopping \n",
        "from sklearn.model_selection import train_test_split\n",
        "from keras.layers import Dropout \n",
        "from keras.layers.convolutional import Conv1D\n",
        "from keras.layers.pooling import MaxPooling1D"
      ]
    },
    {
      "cell_type": "code",
      "source": [
        "#Loading and annotating the data\n",
        "sent_analyzer = SentimentIntensityAnalyzer()\n",
        "path = r'/content/drive/MyDrive/inputs'\n",
        "raw_files = glob.glob(os.path.join(path,  \"*.csv\"))\n",
        "dfs_list = []\n",
        "for file in raw_files: \n",
        "    df = pd.read_csv(file)\n",
        "    dfs_list.append(df)\n",
        "all_tweets_df = pd.concat(dfs_list, axis=0, ignore_index=True)\n",
        "#print(all_tweets_df.head(2))\n",
        "all_tweets_df['compound_score'] = all_tweets_df['clean_tweets'].apply(lambda x: sent_analyzer.polarity_scores(str(x))['compound'])\n",
        "all_tweets_df['label'] = all_tweets_df['compound_score'].apply(lambda x: \"Positive\" if x > 0.0 else \"Negative\" if x < 0.0 else \"Neutral\")\n",
        "all_tweets_df = all_tweets_df.sample(frac=1)"
      ],
      "metadata": {
        "id": "-iWVd1otlb6D"
      },
      "execution_count": 3,
      "outputs": []
    },
    {
      "cell_type": "code",
      "source": [
        "#results\n",
        "all_tweets_df.head(2)"
      ],
      "metadata": {
        "colab": {
          "base_uri": "https://localhost:8080/",
          "height": 191
        },
        "id": "UCF6mMoMl5Cw",
        "outputId": "ee6e61dd-d069-43bb-e678-07448d1a2871"
      },
      "execution_count": 4,
      "outputs": [
        {
          "output_type": "execute_result",
          "data": {
            "text/plain": [
              "                            Date          User  \\\n",
              "11067  2022-09-04 14:36:41+00:00    たんぽぽ組まなみん🍀   \n",
              "8033   2022-08-30 22:34:31+00:00  Nyakwar Dana   \n",
              "\n",
              "                                                   Tweet  \\\n",
              "11067  @UmaiyoUmesyu @ORAL_UVER_APPLE めっちゃ並んで食べたけど、これ...   \n",
              "8033   @KeEquityBank @MatiangDr @jumaf3 Check DM. I n...   \n",
              "\n",
              "                                      clean_tweets  compound_score    label  \n",
              "11067  めっちゃ並んで食べたけど、これは並んでも食べるね！って思うくらいには、美味しかった！！             0.0  Neutral  \n",
              "8033             Check DM. I need assistance ASAP.             0.0  Neutral  "
            ],
            "text/html": [
              "\n",
              "  <div id=\"df-e8f5a021-2fa8-4d31-829a-d109d45a3c3d\">\n",
              "    <div class=\"colab-df-container\">\n",
              "      <div>\n",
              "<style scoped>\n",
              "    .dataframe tbody tr th:only-of-type {\n",
              "        vertical-align: middle;\n",
              "    }\n",
              "\n",
              "    .dataframe tbody tr th {\n",
              "        vertical-align: top;\n",
              "    }\n",
              "\n",
              "    .dataframe thead th {\n",
              "        text-align: right;\n",
              "    }\n",
              "</style>\n",
              "<table border=\"1\" class=\"dataframe\">\n",
              "  <thead>\n",
              "    <tr style=\"text-align: right;\">\n",
              "      <th></th>\n",
              "      <th>Date</th>\n",
              "      <th>User</th>\n",
              "      <th>Tweet</th>\n",
              "      <th>clean_tweets</th>\n",
              "      <th>compound_score</th>\n",
              "      <th>label</th>\n",
              "    </tr>\n",
              "  </thead>\n",
              "  <tbody>\n",
              "    <tr>\n",
              "      <th>11067</th>\n",
              "      <td>2022-09-04 14:36:41+00:00</td>\n",
              "      <td>たんぽぽ組まなみん🍀</td>\n",
              "      <td>@UmaiyoUmesyu @ORAL_UVER_APPLE めっちゃ並んで食べたけど、これ...</td>\n",
              "      <td>めっちゃ並んで食べたけど、これは並んでも食べるね！って思うくらいには、美味しかった！！</td>\n",
              "      <td>0.0</td>\n",
              "      <td>Neutral</td>\n",
              "    </tr>\n",
              "    <tr>\n",
              "      <th>8033</th>\n",
              "      <td>2022-08-30 22:34:31+00:00</td>\n",
              "      <td>Nyakwar Dana</td>\n",
              "      <td>@KeEquityBank @MatiangDr @jumaf3 Check DM. I n...</td>\n",
              "      <td>Check DM. I need assistance ASAP.</td>\n",
              "      <td>0.0</td>\n",
              "      <td>Neutral</td>\n",
              "    </tr>\n",
              "  </tbody>\n",
              "</table>\n",
              "</div>\n",
              "      <button class=\"colab-df-convert\" onclick=\"convertToInteractive('df-e8f5a021-2fa8-4d31-829a-d109d45a3c3d')\"\n",
              "              title=\"Convert this dataframe to an interactive table.\"\n",
              "              style=\"display:none;\">\n",
              "        \n",
              "  <svg xmlns=\"http://www.w3.org/2000/svg\" height=\"24px\"viewBox=\"0 0 24 24\"\n",
              "       width=\"24px\">\n",
              "    <path d=\"M0 0h24v24H0V0z\" fill=\"none\"/>\n",
              "    <path d=\"M18.56 5.44l.94 2.06.94-2.06 2.06-.94-2.06-.94-.94-2.06-.94 2.06-2.06.94zm-11 1L8.5 8.5l.94-2.06 2.06-.94-2.06-.94L8.5 2.5l-.94 2.06-2.06.94zm10 10l.94 2.06.94-2.06 2.06-.94-2.06-.94-.94-2.06-.94 2.06-2.06.94z\"/><path d=\"M17.41 7.96l-1.37-1.37c-.4-.4-.92-.59-1.43-.59-.52 0-1.04.2-1.43.59L10.3 9.45l-7.72 7.72c-.78.78-.78 2.05 0 2.83L4 21.41c.39.39.9.59 1.41.59.51 0 1.02-.2 1.41-.59l7.78-7.78 2.81-2.81c.8-.78.8-2.07 0-2.86zM5.41 20L4 18.59l7.72-7.72 1.47 1.35L5.41 20z\"/>\n",
              "  </svg>\n",
              "      </button>\n",
              "      \n",
              "  <style>\n",
              "    .colab-df-container {\n",
              "      display:flex;\n",
              "      flex-wrap:wrap;\n",
              "      gap: 12px;\n",
              "    }\n",
              "\n",
              "    .colab-df-convert {\n",
              "      background-color: #E8F0FE;\n",
              "      border: none;\n",
              "      border-radius: 50%;\n",
              "      cursor: pointer;\n",
              "      display: none;\n",
              "      fill: #1967D2;\n",
              "      height: 32px;\n",
              "      padding: 0 0 0 0;\n",
              "      width: 32px;\n",
              "    }\n",
              "\n",
              "    .colab-df-convert:hover {\n",
              "      background-color: #E2EBFA;\n",
              "      box-shadow: 0px 1px 2px rgba(60, 64, 67, 0.3), 0px 1px 3px 1px rgba(60, 64, 67, 0.15);\n",
              "      fill: #174EA6;\n",
              "    }\n",
              "\n",
              "    [theme=dark] .colab-df-convert {\n",
              "      background-color: #3B4455;\n",
              "      fill: #D2E3FC;\n",
              "    }\n",
              "\n",
              "    [theme=dark] .colab-df-convert:hover {\n",
              "      background-color: #434B5C;\n",
              "      box-shadow: 0px 1px 3px 1px rgba(0, 0, 0, 0.15);\n",
              "      filter: drop-shadow(0px 1px 2px rgba(0, 0, 0, 0.3));\n",
              "      fill: #FFFFFF;\n",
              "    }\n",
              "  </style>\n",
              "\n",
              "      <script>\n",
              "        const buttonEl =\n",
              "          document.querySelector('#df-e8f5a021-2fa8-4d31-829a-d109d45a3c3d button.colab-df-convert');\n",
              "        buttonEl.style.display =\n",
              "          google.colab.kernel.accessAllowed ? 'block' : 'none';\n",
              "\n",
              "        async function convertToInteractive(key) {\n",
              "          const element = document.querySelector('#df-e8f5a021-2fa8-4d31-829a-d109d45a3c3d');\n",
              "          const dataTable =\n",
              "            await google.colab.kernel.invokeFunction('convertToInteractive',\n",
              "                                                     [key], {});\n",
              "          if (!dataTable) return;\n",
              "\n",
              "          const docLinkHtml = 'Like what you see? Visit the ' +\n",
              "            '<a target=\"_blank\" href=https://colab.research.google.com/notebooks/data_table.ipynb>data table notebook</a>'\n",
              "            + ' to learn more about interactive tables.';\n",
              "          element.innerHTML = '';\n",
              "          dataTable['output_type'] = 'display_data';\n",
              "          await google.colab.output.renderOutput(dataTable, element);\n",
              "          const docLink = document.createElement('div');\n",
              "          docLink.innerHTML = docLinkHtml;\n",
              "          element.appendChild(docLink);\n",
              "        }\n",
              "      </script>\n",
              "    </div>\n",
              "  </div>\n",
              "  "
            ]
          },
          "metadata": {},
          "execution_count": 4
        }
      ]
    },
    {
      "cell_type": "code",
      "source": [
        "#declaring vocabulary parameters.\n",
        "MAX_WORDS =  5000\n",
        "max_length = 150 \n",
        "embed_dim = 150 "
      ],
      "metadata": {
        "id": "wdn56dnUl-5_"
      },
      "execution_count": 5,
      "outputs": []
    },
    {
      "cell_type": "code",
      "source": [
        "#The textual features in the data will be converted to tokens using the tokenizer function in lstms as demonstrated belw:\n",
        "tok = Tokenizer(num_words = MAX_WORDS, filters='!\"#$%&()*+,-./:;<=>?@[\\]^_`{|}~', lower=True )\n",
        "all_tweets_df['clean_tweets'] = all_tweets_df['clean_tweets'].astype(str)\n",
        "tok.fit_on_texts(all_tweets_df['clean_tweets'].values)\n",
        "word_index = tok.word_index\n",
        "print(\"Number of unique tokens: \" + str(len(word_index)))"
      ],
      "metadata": {
        "colab": {
          "base_uri": "https://localhost:8080/"
        },
        "id": "tlRtwVh6uUQI",
        "outputId": "05e4aac6-c1a3-42c4-9694-7e18a19ee955"
      },
      "execution_count": 13,
      "outputs": [
        {
          "output_type": "stream",
          "name": "stdout",
          "text": [
            "Number of unique tokens: 25964\n"
          ]
        }
      ]
    },
    {
      "cell_type": "code",
      "source": [
        "X = tok.texts_to_sequences(all_tweets_df['clean_tweets'].values)\n",
        "X = pad_sequences(X, maxlen = max_length )# since tweets have a limit of 140 characters, we use this figure as our max. length as defined before\n",
        "print(\"Input tensor shape: \", X.shape)"
      ],
      "metadata": {
        "colab": {
          "base_uri": "https://localhost:8080/"
        },
        "id": "YD3l39FUwMkm",
        "outputId": "85eb8613-55ac-4be2-bcd7-a630d253a358"
      },
      "execution_count": 14,
      "outputs": [
        {
          "output_type": "stream",
          "name": "stdout",
          "text": [
            "Input tensor shape:  (16118, 150)\n"
          ]
        }
      ]
    },
    {
      "cell_type": "code",
      "source": [
        "y = pd.get_dummies(all_tweets_df['label']).values"
      ],
      "metadata": {
        "id": "FRB6a5FlwsvE"
      },
      "execution_count": 17,
      "outputs": []
    },
    {
      "cell_type": "code",
      "source": [
        "X_train, X_test, y_train, y_test = train_test_split(X, y, test_size=0.3, random_state=42)"
      ],
      "metadata": {
        "id": "4is90Dkzw4og"
      },
      "execution_count": 19,
      "outputs": []
    },
    {
      "cell_type": "code",
      "source": [
        "#initializing neural network\n",
        "lstm_model = Sequential()\n",
        "lstm_model.add(Embedding(MAX_WORDS, embed_dim, input_length = X.shape[1]))\n",
        "lstm_model.add(SpatialDropout1D(0.2))\n",
        "lstm_model.add(LSTM(100, dropout=0.2, recurrent_dropout=0.2))\n",
        "lstm_model.add(Dense(3, activation=\"softmax\"))\n",
        "lstm_model.compile(loss=\"categorical_crossentropy\", optimizer=\"adam\", metrics=[\"accuracy\"])"
      ],
      "metadata": {
        "id": "2l60aOS1yF1-"
      },
      "execution_count": 21,
      "outputs": []
    },
    {
      "cell_type": "code",
      "source": [
        "#setting model runtime params and fitting model\n",
        "epochs = 10\n",
        "batch_size = 32\n",
        "lstm_history = lstm_model.fit(X_train, y_train, epochs=epochs, batch_size=batch_size, validation_split=0.1, callbacks=[EarlyStopping(monitor=\"val_loss\", patience=5, min_delta=0.0001 )])"
      ],
      "metadata": {
        "colab": {
          "base_uri": "https://localhost:8080/"
        },
        "id": "psT7brXHy0Mq",
        "outputId": "7f5476a0-1daa-4e4b-e369-7544ca83ae1f"
      },
      "execution_count": 22,
      "outputs": [
        {
          "output_type": "stream",
          "name": "stdout",
          "text": [
            "Epoch 1/10\n",
            "318/318 [==============================] - 80s 243ms/step - loss: 0.6780 - accuracy: 0.7220 - val_loss: 0.5192 - val_accuracy: 0.8167\n",
            "Epoch 2/10\n",
            "318/318 [==============================] - 81s 256ms/step - loss: 0.3574 - accuracy: 0.8785 - val_loss: 0.4425 - val_accuracy: 0.8618\n",
            "Epoch 3/10\n",
            "318/318 [==============================] - 81s 255ms/step - loss: 0.2343 - accuracy: 0.9261 - val_loss: 0.4579 - val_accuracy: 0.8547\n",
            "Epoch 4/10\n",
            "318/318 [==============================] - 74s 234ms/step - loss: 0.1807 - accuracy: 0.9440 - val_loss: 0.5198 - val_accuracy: 0.8468\n",
            "Epoch 5/10\n",
            "318/318 [==============================] - 73s 230ms/step - loss: 0.1528 - accuracy: 0.9523 - val_loss: 0.5695 - val_accuracy: 0.8423\n",
            "Epoch 6/10\n",
            "318/318 [==============================] - 74s 233ms/step - loss: 0.1332 - accuracy: 0.9575 - val_loss: 0.6396 - val_accuracy: 0.8379\n",
            "Epoch 7/10\n",
            "318/318 [==============================] - 74s 233ms/step - loss: 0.1177 - accuracy: 0.9625 - val_loss: 0.6384 - val_accuracy: 0.8432\n"
          ]
        }
      ]
    },
    {
      "cell_type": "code",
      "source": [
        "metrcs = lstm_model.evaluate(X_test, y_test)\n",
        "lstm_loss, lstm_acc = metrcs[0], metrcs[1]\n",
        "print(\"LSTM Test Performance\")\n",
        "print(\"LSTM Loss: \" +str(lstm_loss))\n",
        "print(\"LSTM accuracy: \" + str(lstm_acc))"
      ],
      "metadata": {
        "colab": {
          "base_uri": "https://localhost:8080/"
        },
        "id": "9qn56wZxzzPW",
        "outputId": "a1010093-f7eb-4aea-c0ea-8cc8ff141a0f"
      },
      "execution_count": 24,
      "outputs": [
        {
          "output_type": "stream",
          "name": "stdout",
          "text": [
            "152/152 [==============================] - 5s 31ms/step - loss: 0.6239 - accuracy: 0.8441\n",
            "LSTM Test Performance\n",
            "LSTM Loss: 0.6239235401153564\n",
            "LSTM accuracy: 0.8440860509872437\n"
          ]
        }
      ]
    },
    {
      "cell_type": "code",
      "source": [
        "#Initializing Convolution neural network\n",
        "cnn = Sequential()\n",
        "cnn.add(Embedding(MAX_WORDS, embed_dim, input_length=X.shape[1]))\n",
        "cnn.add(Conv1D(filters=128, kernel_size=4, padding=\"same\", activation=\"relu\"))\n",
        "cnn.add(MaxPooling1D(pool_size=2))\n",
        "cnn.add(Conv1D(filters=64, kernel_size=4, padding=\"same\", activation=\"relu\"))\n",
        "cnn.add(MaxPooling1D(pool_size=2))\n",
        "cnn.add(Flatten())\n",
        "cnn.add(Dense(256, activation='relu'))\n",
        "cnn.add(Dense(3, activation=\"softmax\"))\n",
        "cnn.compile(loss=\"categorical_crossentropy\", optimizer=\"adam\", metrics=[\"accuracy\"])"
      ],
      "metadata": {
        "id": "oSFWpVZA1yBb"
      },
      "execution_count": 27,
      "outputs": []
    },
    {
      "cell_type": "code",
      "source": [
        "#fitting the model\n",
        "cnn_history = cnn.fit(X_train, y_train, epochs=10, batch_size=32, verbose=1)"
      ],
      "metadata": {
        "colab": {
          "base_uri": "https://localhost:8080/"
        },
        "id": "_g98fp4A3riq",
        "outputId": "32088629-9449-40cf-d5e8-55df98d02937"
      },
      "execution_count": 29,
      "outputs": [
        {
          "output_type": "stream",
          "name": "stdout",
          "text": [
            "Epoch 1/10\n",
            "353/353 [==============================] - 27s 74ms/step - loss: 0.6320 - accuracy: 0.7460\n",
            "Epoch 2/10\n",
            "353/353 [==============================] - 26s 72ms/step - loss: 0.3632 - accuracy: 0.8787\n",
            "Epoch 3/10\n",
            "353/353 [==============================] - 27s 76ms/step - loss: 0.2174 - accuracy: 0.9273\n",
            "Epoch 4/10\n",
            "353/353 [==============================] - 21s 60ms/step - loss: 0.1370 - accuracy: 0.9531\n",
            "Epoch 5/10\n",
            "353/353 [==============================] - 21s 59ms/step - loss: 0.1036 - accuracy: 0.9660\n",
            "Epoch 6/10\n",
            "353/353 [==============================] - 21s 59ms/step - loss: 0.0803 - accuracy: 0.9739\n",
            "Epoch 7/10\n",
            "353/353 [==============================] - 21s 59ms/step - loss: 0.0746 - accuracy: 0.9760\n",
            "Epoch 8/10\n",
            "353/353 [==============================] - 22s 61ms/step - loss: 0.0648 - accuracy: 0.9791\n",
            "Epoch 9/10\n",
            "353/353 [==============================] - 21s 59ms/step - loss: 0.0564 - accuracy: 0.9817\n",
            "Epoch 10/10\n",
            "353/353 [==============================] - 21s 59ms/step - loss: 0.0631 - accuracy: 0.9796\n"
          ]
        }
      ]
    },
    {
      "cell_type": "code",
      "source": [
        "cnn_loss, cnn_acc = cnn.evaluate(X_test, y_test)\n",
        "print(\"CNN Test Performance\")\n",
        "print(\"CNN Loss: \" + str(cnn_loss))\n",
        "print(\"CNN Acc: \" + str(cnn_acc))"
      ],
      "metadata": {
        "colab": {
          "base_uri": "https://localhost:8080/"
        },
        "id": "CTZDM41s4T00",
        "outputId": "90d4cf8b-ea19-4ddc-8112-c317253632a9"
      },
      "execution_count": 30,
      "outputs": [
        {
          "output_type": "stream",
          "name": "stdout",
          "text": [
            "152/152 [==============================] - 2s 15ms/step - loss: 1.1292 - accuracy: 0.8457\n",
            "CNN Test Performance\n",
            "CNN Loss: 1.1292004585266113\n",
            "CNN Acc: 0.8457402586936951\n"
          ]
        }
      ]
    },
    {
      "cell_type": "code",
      "source": [
        "#Transformer models: BERT\n"
      ],
      "metadata": {
        "id": "4rHThkfZ4qC4"
      },
      "execution_count": null,
      "outputs": []
    }
  ]
}