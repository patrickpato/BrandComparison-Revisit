{
 "cells": [
  {
   "cell_type": "code",
   "execution_count": 1,
   "id": "08bb2a67",
   "metadata": {},
   "outputs": [],
   "source": [
    "import pandas as pd\n",
    "from vaderSentiment.vaderSentiment import SentimentIntensityAnalyzer "
   ]
  },
  {
   "cell_type": "code",
   "execution_count": 3,
   "id": "1a4c24a6",
   "metadata": {},
   "outputs": [
    {
     "name": "stdout",
     "output_type": "stream",
     "text": [
      " Volume in drive C has no label.\n",
      " Volume Serial Number is A8C7-1E41\n",
      "\n",
      " Directory of C:\\Users\\PATRICK\\Desktop\\MLAI\\brand_comparison\n",
      "\n",
      "09/05/2022  01:26 AM    <DIR>          .\n",
      "09/05/2022  01:26 AM    <DIR>          ..\n",
      "09/05/2022  01:24 AM    <DIR>          .ipynb_checkpoints\n",
      "09/04/2022  11:50 PM           270,186 AbsaKenya.csv\n",
      "09/04/2022  11:50 PM           423,738 Airtel_KE.csv\n",
      "09/04/2022  11:50 PM           433,524 Apple.csv\n",
      "09/04/2022  07:59 AM             1,915 data_streamer.py\n",
      "09/04/2022  11:50 PM           330,436 KCBGroup.csv\n",
      "09/04/2022  11:50 PM           372,528 KeEquityBank.csv\n",
      "09/04/2022  08:03 PM               850 log_reg_mlflow_example.py\n",
      "09/04/2022  07:50 PM    <DIR>          mlruns\n",
      "09/04/2022  11:49 PM           429,227 Nokia.csv\n",
      "09/04/2022  11:49 PM           372,161 Safaricom.csv\n",
      "09/04/2022  11:49 PM           437,628 Samsung.csv\n",
      "09/05/2022  01:18 AM             3,328 single_entity_exp.py\n",
      "09/04/2022  06:19 AM                 0 single-entity_sentiment_analysis.py\n",
      "09/04/2022  06:19 AM                 0 single-entity_sentiment_analysis.txt\n",
      "09/04/2022  11:48 PM           106,549 TelkomKenya.csv\n",
      "09/05/2022  01:26 AM               830 Untitled.ipynb\n",
      "              15 File(s)      3,182,900 bytes\n",
      "               4 Dir(s)  78,879,645,696 bytes free\n"
     ]
    }
   ],
   "source": [
    "ls"
   ]
  },
  {
   "cell_type": "code",
   "execution_count": 17,
   "id": "3a106a41",
   "metadata": {},
   "outputs": [
    {
     "data": {
      "text/html": [
       "<div>\n",
       "<style scoped>\n",
       "    .dataframe tbody tr th:only-of-type {\n",
       "        vertical-align: middle;\n",
       "    }\n",
       "\n",
       "    .dataframe tbody tr th {\n",
       "        vertical-align: top;\n",
       "    }\n",
       "\n",
       "    .dataframe thead th {\n",
       "        text-align: right;\n",
       "    }\n",
       "</style>\n",
       "<table border=\"1\" class=\"dataframe\">\n",
       "  <thead>\n",
       "    <tr style=\"text-align: right;\">\n",
       "      <th></th>\n",
       "      <th>Date</th>\n",
       "      <th>User</th>\n",
       "      <th>Tweet</th>\n",
       "      <th>clean_tweets</th>\n",
       "    </tr>\n",
       "  </thead>\n",
       "  <tbody>\n",
       "    <tr>\n",
       "      <th>0</th>\n",
       "      <td>2022-09-04 14:28:15+00:00</td>\n",
       "      <td>Telkom Kenya</td>\n",
       "      <td>@CalvinceOoko2 Hello @CalvinceOoko2, apologies...</td>\n",
       "      <td>Hello , apologies inconvenience. Kindly copy-p...</td>\n",
       "    </tr>\n",
       "    <tr>\n",
       "      <th>1</th>\n",
       "      <td>2022-09-04 13:52:27+00:00</td>\n",
       "      <td>Calvince Ooko</td>\n",
       "      <td>@TelkomKenya @glincsservice I purchased my cre...</td>\n",
       "      <td>I purchased credit safaricom disappeared refle...</td>\n",
       "    </tr>\n",
       "  </tbody>\n",
       "</table>\n",
       "</div>"
      ],
      "text/plain": [
       "                        Date           User  \\\n",
       "0  2022-09-04 14:28:15+00:00   Telkom Kenya   \n",
       "1  2022-09-04 13:52:27+00:00  Calvince Ooko   \n",
       "\n",
       "                                               Tweet  \\\n",
       "0  @CalvinceOoko2 Hello @CalvinceOoko2, apologies...   \n",
       "1  @TelkomKenya @glincsservice I purchased my cre...   \n",
       "\n",
       "                                        clean_tweets  \n",
       "0  Hello , apologies inconvenience. Kindly copy-p...  \n",
       "1  I purchased credit safaricom disappeared refle...  "
      ]
     },
     "execution_count": 17,
     "metadata": {},
     "output_type": "execute_result"
    }
   ],
   "source": [
    "sample_df = pd.read_csv(\"TelkomKenya.csv\")\n",
    "sample_df.head(2)"
   ]
  },
  {
   "cell_type": "code",
   "execution_count": 18,
   "id": "106e0ffd",
   "metadata": {},
   "outputs": [
    {
     "data": {
      "text/html": [
       "<div>\n",
       "<style scoped>\n",
       "    .dataframe tbody tr th:only-of-type {\n",
       "        vertical-align: middle;\n",
       "    }\n",
       "\n",
       "    .dataframe tbody tr th {\n",
       "        vertical-align: top;\n",
       "    }\n",
       "\n",
       "    .dataframe thead th {\n",
       "        text-align: right;\n",
       "    }\n",
       "</style>\n",
       "<table border=\"1\" class=\"dataframe\">\n",
       "  <thead>\n",
       "    <tr style=\"text-align: right;\">\n",
       "      <th></th>\n",
       "      <th>Date</th>\n",
       "      <th>User</th>\n",
       "      <th>Tweet</th>\n",
       "      <th>clean_tweets</th>\n",
       "      <th>compound_score</th>\n",
       "    </tr>\n",
       "  </thead>\n",
       "  <tbody>\n",
       "    <tr>\n",
       "      <th>0</th>\n",
       "      <td>2022-09-04 14:28:15+00:00</td>\n",
       "      <td>Telkom Kenya</td>\n",
       "      <td>@CalvinceOoko2 Hello @CalvinceOoko2, apologies...</td>\n",
       "      <td>Hello , apologies inconvenience. Kindly copy-p...</td>\n",
       "      <td>0.4404</td>\n",
       "    </tr>\n",
       "    <tr>\n",
       "      <th>1</th>\n",
       "      <td>2022-09-04 13:52:27+00:00</td>\n",
       "      <td>Calvince Ooko</td>\n",
       "      <td>@TelkomKenya @glincsservice I purchased my cre...</td>\n",
       "      <td>I purchased credit safaricom disappeared refle...</td>\n",
       "      <td>0.1779</td>\n",
       "    </tr>\n",
       "  </tbody>\n",
       "</table>\n",
       "</div>"
      ],
      "text/plain": [
       "                        Date           User  \\\n",
       "0  2022-09-04 14:28:15+00:00   Telkom Kenya   \n",
       "1  2022-09-04 13:52:27+00:00  Calvince Ooko   \n",
       "\n",
       "                                               Tweet  \\\n",
       "0  @CalvinceOoko2 Hello @CalvinceOoko2, apologies...   \n",
       "1  @TelkomKenya @glincsservice I purchased my cre...   \n",
       "\n",
       "                                        clean_tweets  compound_score  \n",
       "0  Hello , apologies inconvenience. Kindly copy-p...          0.4404  \n",
       "1  I purchased credit safaricom disappeared refle...          0.1779  "
      ]
     },
     "execution_count": 18,
     "metadata": {},
     "output_type": "execute_result"
    }
   ],
   "source": [
    "sent_analyzer = SentimentIntensityAnalyzer()\n",
    "sample_df['compound_score'] = sample_df['clean_tweets'].apply(lambda x: sent_analyzer.polarity_scores(str(x))['compound'])\n",
    "sample_df.head(2)"
   ]
  },
  {
   "cell_type": "code",
   "execution_count": 19,
   "id": "a44d604d",
   "metadata": {},
   "outputs": [
    {
     "data": {
      "text/plain": [
       "(-0.8519, 0.891)"
      ]
     },
     "execution_count": 19,
     "metadata": {},
     "output_type": "execute_result"
    }
   ],
   "source": [
    "sample_df['compound_score'].min(), sample_df['compound_score'].max()"
   ]
  },
  {
   "cell_type": "code",
   "execution_count": 28,
   "id": "9348f7fc",
   "metadata": {},
   "outputs": [
    {
     "data": {
      "text/html": [
       "<div>\n",
       "<style scoped>\n",
       "    .dataframe tbody tr th:only-of-type {\n",
       "        vertical-align: middle;\n",
       "    }\n",
       "\n",
       "    .dataframe tbody tr th {\n",
       "        vertical-align: top;\n",
       "    }\n",
       "\n",
       "    .dataframe thead th {\n",
       "        text-align: right;\n",
       "    }\n",
       "</style>\n",
       "<table border=\"1\" class=\"dataframe\">\n",
       "  <thead>\n",
       "    <tr style=\"text-align: right;\">\n",
       "      <th></th>\n",
       "      <th>Date</th>\n",
       "      <th>User</th>\n",
       "      <th>Tweet</th>\n",
       "      <th>clean_tweets</th>\n",
       "      <th>compound_score</th>\n",
       "      <th>label</th>\n",
       "    </tr>\n",
       "  </thead>\n",
       "  <tbody>\n",
       "    <tr>\n",
       "      <th>0</th>\n",
       "      <td>2022-09-04 14:28:15+00:00</td>\n",
       "      <td>Telkom Kenya</td>\n",
       "      <td>@CalvinceOoko2 Hello @CalvinceOoko2, apologies...</td>\n",
       "      <td>Hello , apologies inconvenience. Kindly copy-p...</td>\n",
       "      <td>0.4404</td>\n",
       "      <td>Positive</td>\n",
       "    </tr>\n",
       "    <tr>\n",
       "      <th>1</th>\n",
       "      <td>2022-09-04 13:52:27+00:00</td>\n",
       "      <td>Calvince Ooko</td>\n",
       "      <td>@TelkomKenya @glincsservice I purchased my cre...</td>\n",
       "      <td>I purchased credit safaricom disappeared refle...</td>\n",
       "      <td>0.1779</td>\n",
       "      <td>Positive</td>\n",
       "    </tr>\n",
       "    <tr>\n",
       "      <th>2</th>\n",
       "      <td>2022-09-04 13:49:18+00:00</td>\n",
       "      <td>Telkom Kenya</td>\n",
       "      <td>@liberty_organic @TelkomCare_Ke Hello @liberty...</td>\n",
       "      <td>Hello , apologies delay, still following your…</td>\n",
       "      <td>-0.3182</td>\n",
       "      <td>Negative</td>\n",
       "    </tr>\n",
       "    <tr>\n",
       "      <th>3</th>\n",
       "      <td>2022-09-04 13:46:51+00:00</td>\n",
       "      <td>philBE</td>\n",
       "      <td>@SubOptic2022 @emarine_pjsc @PCCWGlobal @Telko...</td>\n",
       "      <td>…</td>\n",
       "      <td>0.0000</td>\n",
       "      <td>Neutral</td>\n",
       "    </tr>\n",
       "    <tr>\n",
       "      <th>4</th>\n",
       "      <td>2022-09-04 13:36:27+00:00</td>\n",
       "      <td>LIBERTY ORGANIC FARM</td>\n",
       "      <td>@TelkomKenya please resolve ticket number 6251...</td>\n",
       "      <td>please resolve ticket number 6251647 soon poss...</td>\n",
       "      <td>0.4404</td>\n",
       "      <td>Positive</td>\n",
       "    </tr>\n",
       "  </tbody>\n",
       "</table>\n",
       "</div>"
      ],
      "text/plain": [
       "                        Date                  User  \\\n",
       "0  2022-09-04 14:28:15+00:00          Telkom Kenya   \n",
       "1  2022-09-04 13:52:27+00:00         Calvince Ooko   \n",
       "2  2022-09-04 13:49:18+00:00          Telkom Kenya   \n",
       "3  2022-09-04 13:46:51+00:00                philBE   \n",
       "4  2022-09-04 13:36:27+00:00  LIBERTY ORGANIC FARM   \n",
       "\n",
       "                                               Tweet  \\\n",
       "0  @CalvinceOoko2 Hello @CalvinceOoko2, apologies...   \n",
       "1  @TelkomKenya @glincsservice I purchased my cre...   \n",
       "2  @liberty_organic @TelkomCare_Ke Hello @liberty...   \n",
       "3  @SubOptic2022 @emarine_pjsc @PCCWGlobal @Telko...   \n",
       "4  @TelkomKenya please resolve ticket number 6251...   \n",
       "\n",
       "                                        clean_tweets  compound_score     label  \n",
       "0  Hello , apologies inconvenience. Kindly copy-p...          0.4404  Positive  \n",
       "1  I purchased credit safaricom disappeared refle...          0.1779  Positive  \n",
       "2     Hello , apologies delay, still following your…         -0.3182  Negative  \n",
       "3                                                  …          0.0000   Neutral  \n",
       "4  please resolve ticket number 6251647 soon poss...          0.4404  Positive  "
      ]
     },
     "execution_count": 28,
     "metadata": {},
     "output_type": "execute_result"
    }
   ],
   "source": [
    "sample_df['label'] = sample_df['compound_score'].apply(lambda x: \"Positive\" if x > 0.00 else \"Negative\" if x< 0.00 else \"Neutral\")\n",
    "sample_df.head()"
   ]
  },
  {
   "cell_type": "code",
   "execution_count": null,
   "id": "bbb4246d",
   "metadata": {},
   "outputs": [],
   "source": []
  }
 ],
 "metadata": {
  "kernelspec": {
   "display_name": "Python 3 (ipykernel)",
   "language": "python",
   "name": "python3"
  },
  "language_info": {
   "codemirror_mode": {
    "name": "ipython",
    "version": 3
   },
   "file_extension": ".py",
   "mimetype": "text/x-python",
   "name": "python",
   "nbconvert_exporter": "python",
   "pygments_lexer": "ipython3",
   "version": "3.9.12"
  }
 },
 "nbformat": 4,
 "nbformat_minor": 5
}
